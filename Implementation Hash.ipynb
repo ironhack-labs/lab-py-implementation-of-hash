{
 "cells": [
  {
   "cell_type": "markdown",
   "metadata": {},
   "source": [
    "# LAB | Implementation of Hash Data Structure"
   ]
  },
  {
   "cell_type": "markdown",
   "metadata": {},
   "source": [
    "## Overview"
   ]
  },
  {
   "cell_type": "markdown",
   "metadata": {},
   "source": [
    "\n",
    "This lesson will cover the implementation of a hash data structure in Python. We will focus on basic operations such as insertion, deletion, and searching for elements. Understanding these implementations will provide a solid foundation for working with hash tables in various applications.\n"
   ]
  },
  {
   "cell_type": "markdown",
   "metadata": {},
   "source": [
    "## Instructions"
   ]
  },
  {
   "cell_type": "markdown",
   "metadata": {},
   "source": [
    "- Complete each section by understanding the concepts and implementing the provided code.\n",
    "- Test your code to ensure it behaves as expected."
   ]
  },
  {
   "cell_type": "markdown",
   "metadata": {},
   "source": [
    "\n",
    "## 1. Node Class\n"
   ]
  },
  {
   "cell_type": "markdown",
   "metadata": {},
   "source": [
    "\n",
    "The `Node` class represents an individual entry in the hash table's linked list.\n"
   ]
  },
  {
   "cell_type": "markdown",
   "metadata": {},
   "source": [
    "\n",
    "### Key Concepts\n"
   ]
  },
  {
   "cell_type": "markdown",
   "metadata": {},
   "source": [
    "\n",
    "- **Key**: The identifier for the value stored in the hash table.\n",
    "- **Value**: The data associated with the key.\n",
    "- **Next**: A pointer to the next node in the linked list for collision resolution."
   ]
  },
  {
   "cell_type": "markdown",
   "metadata": {},
   "source": [
    "### Explanation\n",
    "This cell demonstrates the implementation. Take a moment to check out the code and run the cell to see how it works."
   ]
  },
  {
   "cell_type": "code",
   "execution_count": 45,
   "metadata": {},
   "outputs": [],
   "source": [
    "class Node:\n",
    "    def __init__(self, key, value):\n",
    "        self.key = key\n",
    "        self.value = value\n",
    "        self.next = None"
   ]
  },
  {
   "cell_type": "markdown",
   "metadata": {},
   "source": [
    "### Try It Yourself!\n",
    "Modify the implementation below or try writing your own version based on what you've learned above."
   ]
  },
  {
   "cell_type": "code",
   "execution_count": null,
   "metadata": {},
   "outputs": [],
   "source": []
  },
  {
   "cell_type": "markdown",
   "metadata": {},
   "source": [
    "## 2. Hash Table Class"
   ]
  },
  {
   "cell_type": "markdown",
   "metadata": {},
   "source": [
    "The `HashTable` class implements a hash table with methods for inserting, searching, and deleting entries."
   ]
  },
  {
   "cell_type": "markdown",
   "metadata": {},
   "source": [
    "\n",
    "### Key Concepts\n",
    "\n",
    "- **Capacity**: The maximum number of entries the hash table can hold.\n",
    "- **Size**: The current number of entries in the hash table.\n",
    "- **Table**: An array of linked lists to store entries."
   ]
  },
  {
   "cell_type": "markdown",
   "metadata": {},
   "source": [
    "### Explanation\n",
    "This cell demonstrates the implementation. Take a moment to check out the code and run the cell to see how it works."
   ]
  },
  {
   "cell_type": "code",
   "execution_count": 46,
   "metadata": {},
   "outputs": [],
   "source": [
    "class HashTable:\n",
    "    def __init__(self, capacity):\n",
    "        self.capacity = capacity\n",
    "        self.size = 0\n",
    "        self.table = [None] * capacity"
   ]
  },
  {
   "cell_type": "markdown",
   "metadata": {},
   "source": [
    "### Try It Yourself!\n",
    "Modify the implementation below or try writing your own version based on what you've learned above."
   ]
  },
  {
   "cell_type": "code",
   "execution_count": null,
   "metadata": {},
   "outputs": [],
   "source": []
  },
  {
   "cell_type": "markdown",
   "metadata": {},
   "source": [
    "### Operations"
   ]
  },
  {
   "cell_type": "markdown",
   "metadata": {},
   "source": [
    "### Explanation\n",
    "These cells demonstrate the implementation. Take a moment to check out the code and run the cells to see how it works."
   ]
  },
  {
   "cell_type": "markdown",
   "metadata": {},
   "source": [
    "\n",
    "#### Insert\n",
    "\n",
    "This operation adds a new key-value pair to the hash table.\n"
   ]
  },
  {
   "cell_type": "code",
   "execution_count": 47,
   "metadata": {},
   "outputs": [],
   "source": [
    "def insert(self, key, value):\n",
    "    index = self._hash(key)\n",
    "\n",
    "    if self.table[index] is None:\n",
    "        self.table[index] = Node(key, value)\n",
    "        self.size += 1\n",
    "    else:\n",
    "        current = self.table[index]\n",
    "        while True:\n",
    "            if current.key == key:\n",
    "                current.value = value  # Update existing value\n",
    "                return\n",
    "            if current.next is None:  # If at the end of the list\n",
    "                break\n",
    "            current = current.next\n",
    "\n",
    "        new_node = Node(key, value)\n",
    "        current.next = new_node  # Add new node at the end\n",
    "        self.size += 1"
   ]
  },
  {
   "cell_type": "markdown",
   "metadata": {},
   "source": [
    "### Try It Yourself!\n",
    "Modify the implementation below or try writing your own version based on what you've learned above."
   ]
  },
  {
   "cell_type": "code",
   "execution_count": null,
   "metadata": {},
   "outputs": [],
   "source": []
  },
  {
   "cell_type": "markdown",
   "metadata": {},
   "source": [
    "\n",
    "#### Delete\n",
    "\n",
    "This operation removes a key-value pair from the hash table.\n"
   ]
  },
  {
   "cell_type": "code",
   "execution_count": 48,
   "metadata": {},
   "outputs": [],
   "source": [
    "def remove(self, key):\n",
    "    index = self._hash(key)\n",
    "    previous = None\n",
    "    current = self.table[index]\n",
    "\n",
    "    while current:\n",
    "        if current.key == key:\n",
    "            if previous is None:\n",
    "                self.table[index] = current.next  # Remove head node\n",
    "            else:\n",
    "                previous.next = current.next  # Bypass the node to be removed\n",
    "            self.size -= 1\n",
    "            return\n",
    "        previous = current\n",
    "        current = current.next\n",
    "\n",
    "    raise KeyError(f\"Key {key} not found.\")"
   ]
  },
  {
   "cell_type": "markdown",
   "metadata": {},
   "source": [
    "### Try It Yourself!\n",
    "Modify the implementation below or try writing your own version based on what you've learned above."
   ]
  },
  {
   "cell_type": "code",
   "execution_count": null,
   "metadata": {},
   "outputs": [],
   "source": []
  },
  {
   "cell_type": "markdown",
   "metadata": {},
   "source": [
    "\n",
    "#### Search\n",
    "\n",
    "This operation retrieves the value associated with a given key.\n"
   ]
  },
  {
   "cell_type": "code",
   "execution_count": 49,
   "metadata": {},
   "outputs": [],
   "source": [
    "def search(self, key):\n",
    "    index = self._hash(key)\n",
    "    current = self.table[index]\n",
    "\n",
    "    while current:\n",
    "        if current.key == key:\n",
    "            return current.value  # Return associated value\n",
    "        current = current.next\n",
    "\n",
    "    raise KeyError(f\"Key {key} not found.\")"
   ]
  },
  {
   "cell_type": "markdown",
   "metadata": {},
   "source": [
    "### Try It Yourself!\n",
    "Modify the implementation below or try writing your own version based on what you've learned above."
   ]
  },
  {
   "cell_type": "code",
   "execution_count": null,
   "metadata": {},
   "outputs": [],
   "source": []
  },
  {
   "cell_type": "markdown",
   "metadata": {},
   "source": [
    "### Full Implementation"
   ]
  },
  {
   "cell_type": "code",
   "execution_count": 50,
   "metadata": {},
   "outputs": [
    {
     "name": "stdout",
     "output_type": "stream",
     "text": [
      "value1\n",
      "Index 0: (key3: value3) -> None\n",
      "Index 1: None\n",
      "Index 2: None\n",
      "Index 3: None\n",
      "Index 4: None\n",
      "Index 5: None\n",
      "Index 6: None\n",
      "Index 7: (key2: value2) -> None\n",
      "Index 8: None\n",
      "Index 9: None\n",
      "'Key key1 not found.'\n"
     ]
    }
   ],
   "source": [
    "class HashTable:\n",
    "    def __init__(self, capacity):\n",
    "        self.capacity = capacity\n",
    "        self.size = 0\n",
    "        self.table = [None] * capacity\n",
    "\n",
    "    def _hash(self, key):\n",
    "        return hash(key) % self.capacity\n",
    "\n",
    "    def insert(self, key, value):\n",
    "        index = self._hash(key)\n",
    "\n",
    "        if self.table[index] is None:\n",
    "            self.table[index] = Node(key, value)\n",
    "            self.size += 1\n",
    "        else:\n",
    "            current = self.table[index]\n",
    "            while True:\n",
    "                if current.key == key:\n",
    "                    current.value = value  # Update existing value\n",
    "                    return\n",
    "                if current.next is None:  # If at the end of the list\n",
    "                    break\n",
    "                current = current.next\n",
    "\n",
    "            new_node = Node(key, value)\n",
    "            current.next = new_node  # Add new node at the end\n",
    "            self.size += 1\n",
    "\n",
    "    def search(self, key):\n",
    "        index = self._hash(key)\n",
    "        current = self.table[index]\n",
    "\n",
    "        while current:\n",
    "            if current.key == key:\n",
    "                return current.value  # Return associated value\n",
    "            current = current.next\n",
    "\n",
    "        raise KeyError(f\"Key {key} not found.\")\n",
    "\n",
    "    def remove(self, key):\n",
    "        index = self._hash(key)\n",
    "        previous = None\n",
    "        current = self.table[index]\n",
    "\n",
    "        while current:\n",
    "            if current.key == key:\n",
    "                if previous is None:\n",
    "                    self.table[index] = current.next  # Remove head node\n",
    "                else:\n",
    "                    previous.next = current.next  # Bypass the node to be removed\n",
    "                self.size -= 1\n",
    "                return\n",
    "            previous = current\n",
    "            current = current.next\n",
    "\n",
    "        raise KeyError(f\"Key {key} not found.\")\n",
    "\n",
    "    def display(self):\n",
    "        for i in range(self.capacity):\n",
    "            print(f\"Index {i}: \", end=\"\")\n",
    "            current = self.table[i]\n",
    "            while current:\n",
    "                print(f\"({current.key}: {current.value}) -> \", end=\"\")\n",
    "                current = current.next\n",
    "            print(\"None\")\n",
    "\n",
    "### Example Usage\n",
    "\n",
    "\n",
    "# Example usage of HashTable class:\n",
    "hash_table = HashTable(10)\n",
    "\n",
    "# Inserting key-value pairs\n",
    "hash_table.insert(\"key1\", \"value1\")\n",
    "hash_table.insert(\"key2\", \"value2\")\n",
    "hash_table.insert(\"key3\", \"value3\")\n",
    "\n",
    "# Searching for a value by key\n",
    "print(hash_table.search(\"key1\"))  # Output: value1\n",
    "\n",
    "# Deleting a key-value pair\n",
    "hash_table.remove(\"key1\")\n",
    "hash_table.display()\n",
    "\n",
    "# Attempting to search for a deleted key raises an error\n",
    "try:\n",
    "    print(hash_table.search(\"key1\"))  # Raises KeyError\n",
    "except KeyError as e:\n",
    "    print(e)  # Output: Key key1 not found."
   ]
  },
  {
   "cell_type": "markdown",
   "metadata": {},
   "source": [
    "### Try It Yourself!\n",
    "Modify the implementation below or try writing your own version based on what you've learned above."
   ]
  },
  {
   "cell_type": "code",
   "execution_count": 51,
   "metadata": {},
   "outputs": [
    {
     "name": "stdout",
     "output_type": "stream",
     "text": [
      "Index 0: (Orange: Sour and orange) -> None\n",
      "Index 1: (Apple: Red and sweet) -> None\n",
      "Index 2: (Kiwi: Tastes perfect) -> (Watermelon: Big and juicy) -> None\n",
      "Index 3: None\n",
      "Index 4: (Grape: Blue and seedless) -> None\n",
      "Apple:  Red and sweet\n",
      "Kiwi:  Tastes perfect\n"
     ]
    }
   ],
   "source": [
    "fruits_hash = HashTable(5)\n",
    "fruits_hash.insert(\"Apple\", \"Red and sweet\")\n",
    "fruits_hash.insert(\"Orange\", \"Sour and orange\")  \n",
    "fruits_hash.insert(\"Grape\", \"Blue and seedless\") \n",
    "fruits_hash.insert(\"Kiwi\", \"Tastes perfect\")\n",
    "fruits_hash.insert(\"Watermelon\", \"Big and juicy\")\n",
    "fruits_hash.display()\n",
    "\n",
    "print(\"Apple: \", fruits_hash.search(\"Apple\"))\n",
    "print(\"Kiwi: \", fruits_hash.search(\"Kiwi\"))\n"
   ]
  },
  {
   "cell_type": "code",
   "execution_count": null,
   "metadata": {},
   "outputs": [],
   "source": []
  },
  {
   "cell_type": "code",
   "execution_count": 52,
   "metadata": {},
   "outputs": [
    {
     "name": "stdout",
     "output_type": "stream",
     "text": [
      "Index 0: None\n",
      "Index 1: None\n",
      "Index 2: None\n",
      "Index 3: None\n",
      "Index 4: (Grape: Blue and seedless) -> None\n",
      "Index 5: None\n",
      "Index 6: (Apple: Red and sweet) -> (Kiwi: Tastes perfect) -> (Watermelon: Big and juicy) -> None\n",
      "Index 7: (Orange: Sour and orange) -> None\n",
      "Apple:  Red and sweet\n",
      "Kiwi:  Tastes perfect\n"
     ]
    }
   ],
   "source": [
    "fruits_hash = HashTable(8)\n",
    "fruits_hash.insert(\"Apple\", \"Red and sweet\")\n",
    "fruits_hash.insert(\"Orange\", \"Sour and orange\")  \n",
    "fruits_hash.insert(\"Grape\", \"Blue and seedless\") \n",
    "fruits_hash.insert(\"Kiwi\", \"Tastes perfect\")\n",
    "fruits_hash.insert(\"Watermelon\", \"Big and juicy\")\n",
    "fruits_hash.display()\n",
    "\n",
    "print(\"Apple: \", fruits_hash.search(\"Apple\"))\n",
    "print(\"Kiwi: \", fruits_hash.search(\"Kiwi\"))"
   ]
  },
  {
   "cell_type": "code",
   "execution_count": 55,
   "metadata": {},
   "outputs": [
    {
     "name": "stdout",
     "output_type": "stream",
     "text": [
      "Index 0: (Grape: Blue and seedless) -> None\n",
      "Index 1: None\n",
      "Index 2: None\n",
      "Index 3: None\n",
      "Index 4: None\n",
      "Index 5: None\n",
      "Index 6: (Kiwi: Tastes perfect) -> None\n",
      "Index 7: None\n",
      "Index 8: (Apple: Red and sweet) -> None\n",
      "Index 9: None\n",
      "Index 10: None\n",
      "Index 11: (Orange: Sour and orange) -> None\n",
      "Index 12: (Watermelon: Big and juicy) -> None\n",
      "Index 13: None\n",
      "Index 14: None\n",
      "Index 15: None\n",
      "Index 16: None\n",
      "Index 17: None\n",
      "Apple:  Red and sweet\n",
      "Kiwi:  Tastes perfect\n"
     ]
    }
   ],
   "source": [
    "fruits_hash = HashTable(18)\n",
    "fruits_hash.insert(\"Apple\", \"Red and sweet\")\n",
    "fruits_hash.insert(\"Orange\", \"Sour and orange\")  \n",
    "fruits_hash.insert(\"Grape\", \"Blue and seedless\") \n",
    "fruits_hash.insert(\"Kiwi\", \"Tastes perfect\")\n",
    "fruits_hash.insert(\"Watermelon\", \"Big and juicy\")\n",
    "fruits_hash.display()\n",
    "\n",
    "print(\"Apple: \", fruits_hash.search(\"Apple\"))\n",
    "print(\"Kiwi: \", fruits_hash.search(\"Kiwi\"))"
   ]
  },
  {
   "cell_type": "markdown",
   "metadata": {},
   "source": [
    "\n",
    "## Exercise Completion\n"
   ]
  },
  {
   "cell_type": "markdown",
   "metadata": {},
   "source": [
    "\n",
    "Once you have completed all sections:\n",
    "\n",
    "- Review your implementations.\n",
    "- Ensure your code is well-documented with comments explaining your logic.\n",
    "- Save your notebook for submission or further review.\n"
   ]
  },
  {
   "cell_type": "markdown",
   "metadata": {},
   "source": [
    "\n",
    "Happy coding! Enjoy practicing Hash Table implementations in Python!\n",
    "\n"
   ]
  }
 ],
 "metadata": {
  "kernelspec": {
   "display_name": "Python 3",
   "language": "python",
   "name": "python3"
  },
  "language_info": {
   "codemirror_mode": {
    "name": "ipython",
    "version": 3
   },
   "file_extension": ".py",
   "mimetype": "text/x-python",
   "name": "python",
   "nbconvert_exporter": "python",
   "pygments_lexer": "ipython3",
   "version": "3.9.6"
  }
 },
 "nbformat": 4,
 "nbformat_minor": 2
}
